{
 "cells": [
  {
   "cell_type": "code",
   "execution_count": 1,
   "id": "e6dee0aa",
   "metadata": {},
   "outputs": [
    {
     "name": "stdout",
     "output_type": "stream",
     "text": [
      "{'encoding': 'ascii', 'confidence': 1.0, 'language': ''}\n"
     ]
    }
   ],
   "source": [
    "import chardet\n",
    "\n",
    "with open(\"project_development/dataset/created/df_view.csv\", \"rb\") as f:\n",
    "    print(chardet.detect(f.read(50000)))"
   ]
  }
 ],
 "metadata": {
  "kernelspec": {
   "display_name": "dash_app_env",
   "language": "python",
   "name": "python3"
  },
  "language_info": {
   "codemirror_mode": {
    "name": "ipython",
    "version": 3
   },
   "file_extension": ".py",
   "mimetype": "text/x-python",
   "name": "python",
   "nbconvert_exporter": "python",
   "pygments_lexer": "ipython3",
   "version": "3.12.11"
  }
 },
 "nbformat": 4,
 "nbformat_minor": 5
}
